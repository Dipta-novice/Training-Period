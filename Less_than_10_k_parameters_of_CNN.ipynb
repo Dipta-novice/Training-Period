{
  "nbformat": 4,
  "nbformat_minor": 0,
  "metadata": {
    "colab": {
      "name": "Less than 10 k parameters of CNN.ipynb",
      "provenance": []
    },
    "kernelspec": {
      "name": "python3",
      "display_name": "Python 3"
    },
    "language_info": {
      "name": "python"
    },
    "accelerator": "GPU"
  },
  "cells": [
    {
      "cell_type": "code",
      "source": [
        "import tensorflow as tf\n",
        "import numpy as np\n",
        "from tensorflow import keras"
      ],
      "metadata": {
        "id": "ZVymVu-xE4DD"
      },
      "execution_count": 1,
      "outputs": []
    },
    {
      "cell_type": "code",
      "source": [
        "# Load MNIST dataset\n",
        "mnist = keras.datasets.mnist\n",
        "(train_images, train_labels), (test_images, test_labels) = mnist.load_data()\n",
        "\n",
        "# Normalize the input image so that each pixel value is between 0 and 1.\n",
        "train_images = train_images / 255.0\n",
        "test_images = test_images / 255.0\n",
        "\n",
        "# Define the model architecture.\n",
        "model = keras.Sequential([\n",
        "  keras.layers.InputLayer(input_shape=(28, 28)),\n",
        "  keras.layers.Reshape(target_shape=(28, 28, 1)),\n",
        "  keras.layers.Conv2D(filters=12, kernel_size=(3, 3), activation='relu'),\n",
        "  keras.layers.MaxPooling2D(pool_size=(4, 4)),\n",
        "  keras.layers.Flatten(),\n",
        "  #keras.layers.Conv2D(10, (1,1), activation='softmax')\n",
        "  keras.layers.Dense(10)\n",
        "])\n",
        "\n",
        "# Train the digit classification model\n",
        "model.compile(optimizer='adam',\n",
        "              loss=tf.keras.losses.SparseCategoricalCrossentropy(from_logits=True),\n",
        "              metrics=['accuracy'])\n",
        "\n",
        "model.fit(\n",
        "  train_images,\n",
        "  train_labels,\n",
        "  epochs=4,\n",
        "  validation_split=0.1,\n",
        ")"
      ],
      "metadata": {
        "colab": {
          "base_uri": "https://localhost:8080/"
        },
        "id": "fcbUfSm9fuhX",
        "outputId": "2ca3d582-911b-4429-f418-8872716d1dc3"
      },
      "execution_count": 4,
      "outputs": [
        {
          "output_type": "stream",
          "name": "stdout",
          "text": [
            "Epoch 1/4\n",
            "1688/1688 [==============================] - 6s 4ms/step - loss: 0.4153 - accuracy: 0.8836 - val_loss: 0.1511 - val_accuracy: 0.9587\n",
            "Epoch 2/4\n",
            "1688/1688 [==============================] - 6s 3ms/step - loss: 0.1554 - accuracy: 0.9542 - val_loss: 0.1089 - val_accuracy: 0.9677\n",
            "Epoch 3/4\n",
            "1688/1688 [==============================] - 6s 3ms/step - loss: 0.1170 - accuracy: 0.9649 - val_loss: 0.0862 - val_accuracy: 0.9745\n",
            "Epoch 4/4\n",
            "1688/1688 [==============================] - 5s 3ms/step - loss: 0.0985 - accuracy: 0.9704 - val_loss: 0.0793 - val_accuracy: 0.9768\n"
          ]
        },
        {
          "output_type": "execute_result",
          "data": {
            "text/plain": [
              "<keras.callbacks.History at 0x7fcca63994d0>"
            ]
          },
          "metadata": {},
          "execution_count": 4
        }
      ]
    },
    {
      "cell_type": "code",
      "source": [
        "model.summary()"
      ],
      "metadata": {
        "colab": {
          "base_uri": "https://localhost:8080/"
        },
        "id": "eC_7Af2xhdlQ",
        "outputId": "10e0b4fc-63d8-43f5-fcd8-47c8fe42381f"
      },
      "execution_count": 5,
      "outputs": [
        {
          "output_type": "stream",
          "name": "stdout",
          "text": [
            "Model: \"sequential_1\"\n",
            "_________________________________________________________________\n",
            " Layer (type)                Output Shape              Param #   \n",
            "=================================================================\n",
            " reshape_1 (Reshape)         (None, 28, 28, 1)         0         \n",
            "                                                                 \n",
            " conv2d_1 (Conv2D)           (None, 26, 26, 12)        120       \n",
            "                                                                 \n",
            " max_pooling2d_1 (MaxPooling  (None, 6, 6, 12)         0         \n",
            " 2D)                                                             \n",
            "                                                                 \n",
            " flatten_1 (Flatten)         (None, 432)               0         \n",
            "                                                                 \n",
            " dense_1 (Dense)             (None, 10)                4330      \n",
            "                                                                 \n",
            "=================================================================\n",
            "Total params: 4,450\n",
            "Trainable params: 4,450\n",
            "Non-trainable params: 0\n",
            "_________________________________________________________________\n"
          ]
        }
      ]
    }
  ]
}