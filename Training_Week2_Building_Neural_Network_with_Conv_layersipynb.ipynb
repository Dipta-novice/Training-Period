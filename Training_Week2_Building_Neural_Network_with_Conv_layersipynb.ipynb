{
  "nbformat": 4,
  "nbformat_minor": 0,
  "metadata": {
    "colab": {
      "name": "Training Week2: Building Neural Network with Conv layersipynb",
      "provenance": [],
      "collapsed_sections": []
    },
    "kernelspec": {
      "name": "python3",
      "display_name": "Python 3"
    },
    "language_info": {
      "name": "python"
    },
    "accelerator": "GPU"
  },
  "cells": [
    {
      "cell_type": "code",
      "source": [
        "import tensorflow as tf\n",
        "from tensorflow import keras"
      ],
      "metadata": {
        "id": "mxtHAn8p9zoo"
      },
      "execution_count": 46,
      "outputs": []
    },
    {
      "cell_type": "code",
      "execution_count": 47,
      "metadata": {
        "id": "SsWSOv319my3"
      },
      "outputs": [],
      "source": [
        "fashion_mnist = tf.keras.datasets.fashion_mnist\n",
        "\n",
        "(train_images, train_labels), (test_images, test_labels) = fashion_mnist.load_data()"
      ]
    },
    {
      "cell_type": "code",
      "source": [
        "from tensorflow.keras.layers import InputLayer"
      ],
      "metadata": {
        "id": "yNnfKvCR-W_h"
      },
      "execution_count": 48,
      "outputs": []
    },
    {
      "cell_type": "code",
      "source": [
        "from tensorflow.keras.layers import Dense"
      ],
      "metadata": {
        "id": "hzg2D9ey-ZXZ"
      },
      "execution_count": 49,
      "outputs": []
    },
    {
      "cell_type": "code",
      "source": [
        "train_images.shape"
      ],
      "metadata": {
        "colab": {
          "base_uri": "https://localhost:8080/"
        },
        "id": "YNBKFDJBJvZL",
        "outputId": "6ef0654a-1df1-4a43-a766-a16ae56195ff"
      },
      "execution_count": 50,
      "outputs": [
        {
          "output_type": "execute_result",
          "data": {
            "text/plain": [
              "(60000, 28, 28)"
            ]
          },
          "metadata": {},
          "execution_count": 50
        }
      ]
    },
    {
      "cell_type": "code",
      "source": [
        "train_images=train_images/255"
      ],
      "metadata": {
        "id": "6LZ7ScVNM120"
      },
      "execution_count": 51,
      "outputs": []
    },
    {
      "cell_type": "code",
      "source": [
        "train_images, test_images = train_images / 255.0, test_images / 255.0"
      ],
      "metadata": {
        "id": "k2YFC676NGo7"
      },
      "execution_count": 52,
      "outputs": []
    },
    {
      "cell_type": "code",
      "source": [
        "train_labels = tf.keras.utils.to_categorical(train_labels, num_classes=None, dtype='float32')"
      ],
      "metadata": {
        "id": "-R3T3CMlWNz6"
      },
      "execution_count": 53,
      "outputs": []
    },
    {
      "cell_type": "markdown",
      "source": [
        "Reshaping (28,28) to (28,28,1)"
      ],
      "metadata": {
        "id": "7S1uSyARvYkR"
      }
    },
    {
      "cell_type": "code",
      "source": [
        "trainX = train_images.reshape((train_images.shape[0], 28, 28, 1))\n",
        "testX = test_images.reshape((test_images.shape[0], 28, 28, 1))"
      ],
      "metadata": {
        "id": "D9A8NksRvX5m"
      },
      "execution_count": 54,
      "outputs": []
    },
    {
      "cell_type": "markdown",
      "source": [
        "Trial 1: Using One Convolution layer \n"
      ],
      "metadata": {
        "id": "ZWE7vStKt2Ba"
      }
    },
    {
      "cell_type": "code",
      "source": [
        "from tensorflow.keras.models import Sequential\n",
        "from tensorflow.keras.layers import Conv2D\n",
        "from tensorflow.keras.layers import MaxPooling2D\n",
        "from tensorflow.keras.layers import Dense\n",
        "from tensorflow.keras.layers import Flatten"
      ],
      "metadata": {
        "id": "DRF5qhP0wwc-"
      },
      "execution_count": 55,
      "outputs": []
    },
    {
      "cell_type": "code",
      "source": [
        "model = keras.Sequential()\n",
        "model.add(Conv2D(20,(5,5), activation='relu', input_shape = (28, 28,1)))\n",
        "model.add(MaxPooling2D((2, 2)))\n",
        "model.add(Flatten())\n",
        "model.add(Dense(units=158, activation='relu'))\n",
        "model.add(Dense(units=10, activation='softmax'))\n",
        "model.compile(loss= 'categorical_crossentropy', optimizer='adam', metrics=['accuracy'])"
      ],
      "metadata": {
        "id": "324bMBDP-Q0b"
      },
      "execution_count": 56,
      "outputs": []
    },
    {
      "cell_type": "code",
      "source": [
        "model.summary()"
      ],
      "metadata": {
        "colab": {
          "base_uri": "https://localhost:8080/"
        },
        "id": "9G3EX9KB-cHi",
        "outputId": "8b119eeb-9079-4563-9953-4f780c1a2398"
      },
      "execution_count": 57,
      "outputs": [
        {
          "output_type": "stream",
          "name": "stdout",
          "text": [
            "Model: \"sequential_11\"\n",
            "_________________________________________________________________\n",
            " Layer (type)                Output Shape              Param #   \n",
            "=================================================================\n",
            " conv2d_33 (Conv2D)          (None, 24, 24, 20)        520       \n",
            "                                                                 \n",
            " max_pooling2d_18 (MaxPoolin  (None, 12, 12, 20)       0         \n",
            " g2D)                                                            \n",
            "                                                                 \n",
            " flatten_6 (Flatten)         (None, 2880)              0         \n",
            "                                                                 \n",
            " dense_27 (Dense)            (None, 158)               455198    \n",
            "                                                                 \n",
            " dense_28 (Dense)            (None, 10)                1590      \n",
            "                                                                 \n",
            "=================================================================\n",
            "Total params: 457,308\n",
            "Trainable params: 457,308\n",
            "Non-trainable params: 0\n",
            "_________________________________________________________________\n"
          ]
        }
      ]
    },
    {
      "cell_type": "code",
      "source": [
        "model.fit(train_images, train_labels, epochs=5)"
      ],
      "metadata": {
        "colab": {
          "base_uri": "https://localhost:8080/"
        },
        "id": "Z4vso3Iy-d2r",
        "outputId": "729c63e0-435f-4f70-fc5d-fe810084ee5e"
      },
      "execution_count": 58,
      "outputs": [
        {
          "output_type": "stream",
          "name": "stdout",
          "text": [
            "Epoch 1/5\n",
            "1875/1875 [==============================] - 20s 10ms/step - loss: 0.8171 - accuracy: 0.7052\n",
            "Epoch 2/5\n",
            "1875/1875 [==============================] - 20s 11ms/step - loss: 0.5633 - accuracy: 0.7896\n",
            "Epoch 3/5\n",
            "1875/1875 [==============================] - 20s 11ms/step - loss: 0.4958 - accuracy: 0.8206\n",
            "Epoch 4/5\n",
            "1875/1875 [==============================] - 20s 11ms/step - loss: 0.4523 - accuracy: 0.8385\n",
            "Epoch 5/5\n",
            "1875/1875 [==============================] - 20s 11ms/step - loss: 0.4227 - accuracy: 0.8481\n"
          ]
        },
        {
          "output_type": "execute_result",
          "data": {
            "text/plain": [
              "<keras.callbacks.History at 0x7fee5f8b4190>"
            ]
          },
          "metadata": {},
          "execution_count": 58
        }
      ]
    },
    {
      "cell_type": "markdown",
      "source": [
        "Trial 2: Using Batch Normalization and Multiple Conv Layers"
      ],
      "metadata": {
        "id": "yZbLmjLjuMFq"
      }
    },
    {
      "cell_type": "code",
      "source": [
        "from keras.layers import BatchNormalization"
      ],
      "metadata": {
        "id": "eAZDGpLB0JQY"
      },
      "execution_count": 59,
      "outputs": []
    },
    {
      "cell_type": "code",
      "source": [
        "model = keras.Sequential()\n",
        "model.add(Conv2D(20,(3,3), activation='relu', input_shape = (trainX[0].shape)))\n",
        "model.add(MaxPooling2D((2, 2)))\n",
        "model.add(BatchNormalization())\n",
        "model.add(Conv2D(40,(3,3), activation='relu',))\n",
        "model.add(MaxPooling2D((2, 2)))\n",
        "model.add(BatchNormalization())\n",
        "model.add(Flatten())\n",
        "model.add(Dense(units=128,activation = 'relu'))\n",
        "model.add(Dropout(0.25))\n",
        "model.add(Dense(units=158, activation='relu'))\n",
        "model.add(Dropout(0.25))\n",
        "model.add(Dense(units=10, activation='softmax'))\n",
        "model.compile(loss= 'categorical_crossentropy', optimizer='adam', metrics=['accuracy'])"
      ],
      "metadata": {
        "id": "B_LBt1LDyHDt"
      },
      "execution_count": 66,
      "outputs": []
    },
    {
      "cell_type": "code",
      "source": [
        "model.fit(train_images, train_labels, epochs=5)"
      ],
      "metadata": {
        "colab": {
          "base_uri": "https://localhost:8080/"
        },
        "id": "BhaqjN7XyQCm",
        "outputId": "7819c00d-c967-43a1-d63d-f3811728e12c"
      },
      "execution_count": 67,
      "outputs": [
        {
          "output_type": "stream",
          "name": "stdout",
          "text": [
            "Epoch 1/5\n",
            "1875/1875 [==============================] - 28s 14ms/step - loss: 0.4885 - accuracy: 0.8232\n",
            "Epoch 2/5\n",
            "1875/1875 [==============================] - 27s 14ms/step - loss: 0.3458 - accuracy: 0.8733\n",
            "Epoch 3/5\n",
            "1875/1875 [==============================] - 27s 15ms/step - loss: 0.3062 - accuracy: 0.8891\n",
            "Epoch 4/5\n",
            "1875/1875 [==============================] - 27s 14ms/step - loss: 0.2832 - accuracy: 0.8966\n",
            "Epoch 5/5\n",
            "1875/1875 [==============================] - 27s 14ms/step - loss: 0.2566 - accuracy: 0.9061\n"
          ]
        },
        {
          "output_type": "execute_result",
          "data": {
            "text/plain": [
              "<keras.callbacks.History at 0x7feed60f7ad0>"
            ]
          },
          "metadata": {},
          "execution_count": 67
        }
      ]
    },
    {
      "cell_type": "code",
      "source": [
        ""
      ],
      "metadata": {
        "id": "nm7VmsuiZh3a"
      },
      "execution_count": null,
      "outputs": []
    }
  ]
}