{
  "nbformat": 4,
  "nbformat_minor": 0,
  "metadata": {
    "colab": {
      "name": "Week 4 Cutmix Data Augumentation .ipynb",
      "provenance": [],
      "collapsed_sections": []
    },
    "kernelspec": {
      "name": "python3",
      "display_name": "Python 3"
    },
    "language_info": {
      "name": "python"
    },
    "accelerator": "GPU"
  },
  "cells": [
    {
      "cell_type": "code",
      "execution_count": 1,
      "metadata": {
        "id": "sTxkyCBqpIMw"
      },
      "outputs": [],
      "source": [
        "import tensorflow as tf\n",
        "import numpy as np\n",
        "from tensorflow import keras"
      ]
    },
    {
      "cell_type": "code",
      "source": [
        "(x_train, y_train), (x_test, y_test) = tf.keras.datasets.fashion_mnist.load_data()\n",
        "x_train=np.expand_dims(x_train,axis=3)\n",
        "x_test=np.expand_dims(x_test,axis=3)\n",
        "y_train = tf.keras.utils.to_categorical(y_train, num_classes=10)\n",
        "y_test = tf.keras.utils.to_categorical(y_test, num_classes=10)\n",
        "\n",
        "print(x_train.shape)\n",
        "print(y_train.shape)\n",
        "print(x_test.shape)\n",
        "print(y_test.shape)"
      ],
      "metadata": {
        "id": "cU9_wIk0pSBK",
        "colab": {
          "base_uri": "https://localhost:8080/"
        },
        "outputId": "3ff098d6-2a95-4a2e-c6db-1a3f2c6241fa"
      },
      "execution_count": 2,
      "outputs": [
        {
          "output_type": "stream",
          "name": "stdout",
          "text": [
            "Downloading data from https://storage.googleapis.com/tensorflow/tf-keras-datasets/train-labels-idx1-ubyte.gz\n",
            "32768/29515 [=================================] - 0s 0us/step\n",
            "40960/29515 [=========================================] - 0s 0us/step\n",
            "Downloading data from https://storage.googleapis.com/tensorflow/tf-keras-datasets/train-images-idx3-ubyte.gz\n",
            "26427392/26421880 [==============================] - 0s 0us/step\n",
            "26435584/26421880 [==============================] - 0s 0us/step\n",
            "Downloading data from https://storage.googleapis.com/tensorflow/tf-keras-datasets/t10k-labels-idx1-ubyte.gz\n",
            "16384/5148 [===============================================================================================] - 0s 0us/step\n",
            "Downloading data from https://storage.googleapis.com/tensorflow/tf-keras-datasets/t10k-images-idx3-ubyte.gz\n",
            "4423680/4422102 [==============================] - 0s 0us/step\n",
            "4431872/4422102 [==============================] - 0s 0us/step\n",
            "(60000, 28, 28, 1)\n",
            "(60000, 10)\n",
            "(10000, 28, 28, 1)\n",
            "(10000, 10)\n"
          ]
        }
      ]
    },
    {
      "cell_type": "code",
      "source": [
        "class_names = [\n",
        "   \"T-shirt/top\",\"Trouser\",\"Pullover\",\"Dress\",\"Coat\",\"Sandal\",\"Shirt\",\n",
        "\"Sneaker\",\n",
        "\"Bag\",\n",
        "\"Ankle boot\"\n",
        "]\n",
        "AUTO = tf.data.AUTOTUNE\n",
        "BATCH_SIZE = 64\n",
        "EPOCHS = 10\n",
        "IMG_SIZE=28"
      ],
      "metadata": {
        "id": "gG9coM1NpWGz"
      },
      "execution_count": 3,
      "outputs": []
    },
    {
      "cell_type": "code",
      "source": [
        "def preprocess_image(image, label):\n",
        "    image = tf.image.resize(image, (IMG_SIZE, IMG_SIZE))\n",
        "    image = tf.image.convert_image_dtype(image, tf.float32) / 255.0\n",
        "    return image, label"
      ],
      "metadata": {
        "id": "4UjtdjzCpsDa"
      },
      "execution_count": 4,
      "outputs": []
    },
    {
      "cell_type": "code",
      "source": [
        "train_ds_one = (\n",
        "    tf.data.Dataset.from_tensor_slices((x_train, y_train))\n",
        "    .shuffle(1024)\n",
        "    .map(preprocess_image, num_parallel_calls=AUTO)\n",
        ")\n",
        "train_ds_two = (\n",
        "    tf.data.Dataset.from_tensor_slices((x_train, y_train))\n",
        "    .shuffle(1024)\n",
        "    .map(preprocess_image, num_parallel_calls=AUTO)\n",
        ")\n",
        "\n",
        "train_ds_simple = tf.data.Dataset.from_tensor_slices((x_train, y_train))\n",
        "\n",
        "test_ds = tf.data.Dataset.from_tensor_slices((x_test, y_test))\n",
        "\n",
        "train_ds_simple = (\n",
        "    train_ds_simple.map(preprocess_image, num_parallel_calls=AUTO)\n",
        "    .batch(BATCH_SIZE)\n",
        "    .prefetch(AUTO)\n",
        ")\n",
        "\n",
        "# Combine two shuffled datasets from the same training data.\n",
        "train_ds = tf.data.Dataset.zip((train_ds_one, train_ds_two))\n",
        "\n",
        "test_ds = (\n",
        "    test_ds.map(preprocess_image, num_parallel_calls=AUTO)\n",
        "    .batch(BATCH_SIZE)\n",
        "    .prefetch(AUTO)\n",
        ")\n"
      ],
      "metadata": {
        "id": "QBXbpgbppf1C"
      },
      "execution_count": 5,
      "outputs": []
    },
    {
      "cell_type": "code",
      "source": [
        "def sample_beta_distribution(size, concentration_0=0.2, concentration_1=0.2):\n",
        "    gamma_1_sample = tf.random.gamma(shape=[size], alpha=concentration_1)\n",
        "    gamma_2_sample = tf.random.gamma(shape=[size], alpha=concentration_0)\n",
        "    return gamma_1_sample / (gamma_1_sample + gamma_2_sample)\n",
        "\n",
        "\n",
        "@tf.function\n",
        "def get_box(lambda_value):\n",
        "    cut_rat = tf.math.sqrt(1.0 - lambda_value)\n",
        "\n",
        "    cut_w = IMG_SIZE * cut_rat  # rw\n",
        "    cut_w = tf.cast(cut_w, tf.int32)\n",
        "\n",
        "    cut_h = IMG_SIZE * cut_rat  # rh\n",
        "    cut_h = tf.cast(cut_h, tf.int32)\n",
        "\n",
        "    cut_x = tf.random.uniform((1,), minval=0, maxval=IMG_SIZE, dtype=tf.int32)  # rx\n",
        "    cut_y = tf.random.uniform((1,), minval=0, maxval=IMG_SIZE, dtype=tf.int32)  # ry\n",
        "\n",
        "    boundaryx1 = tf.clip_by_value(cut_x[0] - cut_w // 2, 0, IMG_SIZE)\n",
        "    boundaryy1 = tf.clip_by_value(cut_y[0] - cut_h // 2, 0, IMG_SIZE)\n",
        "    bbx2 = tf.clip_by_value(cut_x[0] + cut_w // 2, 0, IMG_SIZE)\n",
        "    bby2 = tf.clip_by_value(cut_y[0] + cut_h // 2, 0, IMG_SIZE)\n",
        "\n",
        "    target_h = bby2 - boundaryy1\n",
        "    if target_h == 0:\n",
        "        target_h += 1\n",
        "\n",
        "    target_w = bbx2 - boundaryx1\n",
        "    if target_w == 0:\n",
        "        target_w += 1\n",
        "\n",
        "    return boundaryx1, boundaryy1, target_h, target_w\n",
        "\n",
        "\n",
        "@tf.function\n",
        "def cutmix(train_ds_one, train_ds_two):\n",
        "    (image1, label1), (image2, label2) = train_ds_one, train_ds_two\n",
        "\n",
        "    alpha = [0.25]\n",
        "    beta = [0.25]\n",
        "\n",
        "    # Get a sample from the Beta distribution\n",
        "    lambda_value = sample_beta_distribution(1, alpha, beta)\n",
        "\n",
        "    # Define Lambda\n",
        "    lambda_value = lambda_value[0][0]\n",
        "\n",
        "    # Get the bounding box offsets, heights and widths\n",
        "    boundaryx1, boundaryy1, target_h, target_w = get_box(lambda_value)\n",
        "\n",
        "    # Get a patch from the second image (`image2`)\n",
        "    crop2 = tf.image.crop_to_bounding_box(\n",
        "        image2, boundaryy1, boundaryx1, target_h, target_w\n",
        "    )\n",
        "    # Pad the `image2` patch (`crop2`) with the same offset\n",
        "    image2 = tf.image.pad_to_bounding_box(\n",
        "        crop2, boundaryy1, boundaryx1, IMG_SIZE, IMG_SIZE\n",
        "    )\n",
        "    # Get a patch from the first image (`image1`)\n",
        "    crop1 = tf.image.crop_to_bounding_box(\n",
        "        image1, boundaryy1, boundaryx1, target_h, target_w\n",
        "    )\n",
        "    # Pad the `image1` patch (`crop1`) with the same offset\n",
        "    img1 = tf.image.pad_to_bounding_box(\n",
        "        crop1, boundaryy1, boundaryx1, IMG_SIZE, IMG_SIZE\n",
        "    )\n",
        "\n",
        "    # Modify the first image by subtracting the patch from `image1`\n",
        "    # (before applying the `image2` patch)\n",
        "    image1 = image1 - img1\n",
        "    # Add the modified `image1` and `image2`  together to get the CutMix image\n",
        "    image = image1 + image2\n",
        "\n",
        "    # Adjust Lambda in accordance to the pixel ration\n",
        "    lambda_value = 1 - (target_w * target_h) / (IMG_SIZE * IMG_SIZE)\n",
        "    lambda_value = tf.cast(lambda_value, tf.float32)\n",
        "\n",
        "    # Combine the labels of both images\n",
        "    label = lambda_value * label1 + (1 - lambda_value) * label2\n",
        "    return image, label"
      ],
      "metadata": {
        "id": "7kKq5Vk5Q1rK"
      },
      "execution_count": 6,
      "outputs": []
    },
    {
      "cell_type": "code",
      "source": [
        "import matplotlib.pyplot as plt"
      ],
      "metadata": {
        "id": "At3DoVs2Q_5Q"
      },
      "execution_count": 8,
      "outputs": []
    },
    {
      "cell_type": "code",
      "source": [
        "train_ds_cmu = (\n",
        "    train_ds.shuffle(1024)\n",
        "    .map(cutmix, num_parallel_calls=AUTO)\n",
        "    .batch(BATCH_SIZE)\n",
        "    .prefetch(AUTO)\n",
        ")\n"
      ],
      "metadata": {
        "id": "a-IYXIZSQ2jP"
      },
      "execution_count": 10,
      "outputs": []
    },
    {
      "cell_type": "code",
      "source": [
        "def get_training_model():\n",
        "    model = tf.keras.Sequential(\n",
        "        [\n",
        "            layers.Conv2D(16, (5, 5), activation=\"relu\", input_shape=(28, 28, 1)),\n",
        "         \n",
        "            layers.MaxPooling2D(pool_size=(4,4)),\n",
        "            layers.BatchNormalization(),\n",
        "            layers.Conv2D(32, (5, 5), activation=\"relu\"),\n",
        "            layers.MaxPooling2D(pool_size=(2, 2)),\n",
        "            layers.BatchNormalization(),\n",
        "            #layers.Dropout(0.2),\n",
        "            layers.Flatten(),\n",
        "            #layers.Dense(128, activation=\"relu\"),\n",
        "            layers.Dense(10, activation=\"softmax\"),\n",
        "        ]\n",
        "    )\n",
        "    return model\n"
      ],
      "metadata": {
        "id": "cmDTrTYBROJw"
      },
      "execution_count": 26,
      "outputs": []
    },
    {
      "cell_type": "code",
      "source": [
        "from keras import layers"
      ],
      "metadata": {
        "id": "iLDcXKYiRUIz"
      },
      "execution_count": 13,
      "outputs": []
    },
    {
      "cell_type": "code",
      "source": [
        "initial_model = get_training_model()\n",
        "initial_model.save_weights(\"initial_weights.h5\")"
      ],
      "metadata": {
        "id": "Vl4awI1fRWhp"
      },
      "execution_count": 27,
      "outputs": []
    },
    {
      "cell_type": "code",
      "source": [
        "model = get_training_model()\n",
        "model.load_weights(\"initial_weights.h5\")\n",
        "model.compile(loss=\"categorical_crossentropy\", optimizer=\"adam\", metrics=[\"accuracy\"])\n",
        "model.fit(train_ds_cmu,validation_data=test_ds, epochs=EPOCHS)\n",
        "_, test_acc = model.evaluate(test_ds)\n",
        "print(\"Test accuracy: {:.2f}%\".format(test_acc * 100))"
      ],
      "metadata": {
        "colab": {
          "base_uri": "https://localhost:8080/"
        },
        "id": "6DMEP3TJRZJZ",
        "outputId": "98d32c49-9f6b-43d2-eaef-f47511bf13c2"
      },
      "execution_count": 32,
      "outputs": [
        {
          "output_type": "stream",
          "name": "stdout",
          "text": [
            "Epoch 1/10\n",
            "938/938 [==============================] - 16s 17ms/step - loss: 1.1619 - accuracy: 0.6885 - val_loss: 0.4542 - val_accuracy: 0.8506\n",
            "Epoch 2/10\n",
            "938/938 [==============================] - 16s 17ms/step - loss: 1.0334 - accuracy: 0.7399 - val_loss: 0.4232 - val_accuracy: 0.8595\n",
            "Epoch 3/10\n",
            "938/938 [==============================] - 20s 21ms/step - loss: 1.0055 - accuracy: 0.7503 - val_loss: 0.4007 - val_accuracy: 0.8639\n",
            "Epoch 4/10\n",
            "938/938 [==============================] - 17s 18ms/step - loss: 0.9917 - accuracy: 0.7547 - val_loss: 0.3815 - val_accuracy: 0.8730\n",
            "Epoch 5/10\n",
            "938/938 [==============================] - 16s 17ms/step - loss: 0.9759 - accuracy: 0.7592 - val_loss: 0.3736 - val_accuracy: 0.8764\n",
            "Epoch 6/10\n",
            "938/938 [==============================] - 16s 17ms/step - loss: 0.9680 - accuracy: 0.7644 - val_loss: 0.3983 - val_accuracy: 0.8641\n",
            "Epoch 7/10\n",
            "938/938 [==============================] - 16s 17ms/step - loss: 0.9608 - accuracy: 0.7654 - val_loss: 0.3624 - val_accuracy: 0.8819\n",
            "Epoch 8/10\n",
            "938/938 [==============================] - 16s 17ms/step - loss: 0.9551 - accuracy: 0.7685 - val_loss: 0.3657 - val_accuracy: 0.8799\n",
            "Epoch 9/10\n",
            "938/938 [==============================] - 16s 17ms/step - loss: 0.9537 - accuracy: 0.7646 - val_loss: 0.3595 - val_accuracy: 0.8809\n",
            "Epoch 10/10\n",
            "938/938 [==============================] - 16s 17ms/step - loss: 0.9464 - accuracy: 0.7680 - val_loss: 0.3624 - val_accuracy: 0.8830\n",
            "157/157 [==============================] - 1s 4ms/step - loss: 0.3624 - accuracy: 0.8830\n",
            "Test accuracy: 88.30%\n"
          ]
        }
      ]
    },
    {
      "cell_type": "code",
      "source": [
        "model = get_training_model()\n",
        "model.load_weights(\"initial_weights.h5\")\n",
        "model.compile(loss=\"categorical_crossentropy\", optimizer=\"adam\", metrics=[\"accuracy\"])\n",
        "model.fit(train_ds_simple, validation_data=test_ds, epochs=10)\n",
        "\n",
        "test_loss, test_accuracy = model.evaluate(test_ds)\n",
        "print(\"Test accuracy: {:.2f}%\".format(test_accuracy * 100))"
      ],
      "metadata": {
        "colab": {
          "base_uri": "https://localhost:8080/"
        },
        "id": "3XerSaQ8WCgg",
        "outputId": "f65812b2-cb64-4205-8e74-68ec93d73ffc"
      },
      "execution_count": 33,
      "outputs": [
        {
          "output_type": "stream",
          "name": "stdout",
          "text": [
            "Epoch 1/10\n",
            "938/938 [==============================] - 6s 5ms/step - loss: 0.4527 - accuracy: 0.8427 - val_loss: 0.3856 - val_accuracy: 0.8641\n",
            "Epoch 2/10\n",
            "938/938 [==============================] - 5s 5ms/step - loss: 0.3116 - accuracy: 0.8891 - val_loss: 0.3717 - val_accuracy: 0.8712\n",
            "Epoch 3/10\n",
            "938/938 [==============================] - 5s 5ms/step - loss: 0.2793 - accuracy: 0.9005 - val_loss: 0.3886 - val_accuracy: 0.8672\n",
            "Epoch 4/10\n",
            "938/938 [==============================] - 5s 5ms/step - loss: 0.2598 - accuracy: 0.9061 - val_loss: 0.3756 - val_accuracy: 0.8721\n",
            "Epoch 5/10\n",
            "938/938 [==============================] - 5s 5ms/step - loss: 0.2445 - accuracy: 0.9119 - val_loss: 0.3640 - val_accuracy: 0.8788\n",
            "Epoch 6/10\n",
            "938/938 [==============================] - 5s 5ms/step - loss: 0.2331 - accuracy: 0.9151 - val_loss: 0.3767 - val_accuracy: 0.8745\n",
            "Epoch 7/10\n",
            "938/938 [==============================] - 5s 5ms/step - loss: 0.2220 - accuracy: 0.9193 - val_loss: 0.3775 - val_accuracy: 0.8744\n",
            "Epoch 8/10\n",
            "938/938 [==============================] - 5s 5ms/step - loss: 0.2131 - accuracy: 0.9230 - val_loss: 0.3574 - val_accuracy: 0.8811\n",
            "Epoch 9/10\n",
            "938/938 [==============================] - 5s 5ms/step - loss: 0.2049 - accuracy: 0.9257 - val_loss: 0.3800 - val_accuracy: 0.8754\n",
            "Epoch 10/10\n",
            "938/938 [==============================] - 5s 5ms/step - loss: 0.1987 - accuracy: 0.9276 - val_loss: 0.3723 - val_accuracy: 0.8810\n",
            "157/157 [==============================] - 1s 4ms/step - loss: 0.3723 - accuracy: 0.8810\n",
            "Test accuracy: 88.10%\n"
          ]
        }
      ]
    }
  ]
}